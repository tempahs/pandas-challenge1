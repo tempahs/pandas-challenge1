{
 "cells": [
  {
   "cell_type": "markdown",
   "metadata": {},
   "source": [
    "### Note\n",
    "* Instructions have been included for each segment. You do not have to follow them exactly, but they are included to help you think through the steps."
   ]
  },
  {
   "cell_type": "code",
   "execution_count": null,
   "metadata": {},
   "outputs": [],
   "source": [
    "# Dependencies and Setup\n",
    "import pandas as pd\n",
    "import numpy as np\n",
    "\n",
    "# File to Load (Remember to Change These)\n",
    "school_data_to_load = \"Resources/schools_complete.csv\"\n",
    "student_data_to_load = \"Resources/students_complete.csv\"\n",
    "\n",
    "# Read School and Student Data File and store into Pandas Data Frames\n",
    "school_data = pd.read_csv(school_data_to_load)\n",
    "student_data = pd.read_csv(student_data_to_load)\n",
    "\n",
    "# Combine the data into a single dataset\n",
    "school_data_complete = pd.merge(student_data, school_data, how=\"left\", on=[\"school_name\", \"school_name\"])"
   ]
  },
  {
   "cell_type": "markdown",
   "metadata": {},
   "source": [
    "## District Summary\n",
    "\n",
    "* Calculate the total number of schools\n",
    "\n",
    "* Calculate the total number of students\n",
    "\n",
    "* Calculate the total budget\n",
    "\n",
    "* Calculate the average math score \n",
    "\n",
    "* Calculate the average reading score\n",
    "\n",
    "* Calculate the percentage of students with a passing math score (70 or greater)\n",
    "\n",
    "* Calculate the percentage of students with a passing reading score (70 or greater)\n",
    "\n",
    "* Calculate the percentage of students who passed math **and** reading (% Overall Passing)\n",
    "\n",
    "* Create a dataframe to hold the above results\n",
    "\n",
    "* Optional: give the displayed data cleaner formatting"
   ]
  },
  {
   "cell_type": "code",
   "execution_count": null,
   "metadata": {},
   "outputs": [],
   "source": [
    "# Calculate the total number of schools\n",
    "totalSchools = school_data_complete[\"school_name\"].nunique()\n",
    "# Calculate the total number of students\n",
    "totalStudents = school_data_complete[\"Student ID\"].nunique()\n",
    "# Calculate the total budget\n",
    "totalBudget = school_data[\"budget\"].sum()\n",
    "# Calculate the average math score\n",
    "averageMathScore = school_data_complete[\"math_score\"].mean()\n",
    "# Calculate the average reading score\n",
    "averageReadingScore = school_data_complete[\"reading_score\"].mean()\n",
    "# Calculate the percentage of students with a passing math score (70 or greater)\n",
    "passingMath = len(school_data_complete[school_data_complete[\"math_score\"] >= 70])\n",
    "percentagePassingMath = passingMath / totalStudents * 100\n",
    "# Calculate the percentage of students with a passing reading score (70 or greater)\n",
    "passingReading = len(school_data_complete[school_data_complete[\"reading_score\"] >= 70])\n",
    "percentagePassingReading = passingReading / totalStudents * 100\n",
    "# Calculate the overall passing rate (overall average score), i.e. (avg. math score + avg. reading score)/2\n",
    "percentageOverallPassingRate = (averageMathScore + averageReadingScore) / 2\n",
    "\n",
    "# Create a dataframe to hold the above results\n",
    "district_summary_df = pd.DataFrame({\n",
    "    \"Total Schools\": [totalSchools],\n",
    "    \"Total Students\": [totalStudents],\n",
    "    \"Total Budget\": [totalBudget],\n",
    "    \"Average Math Score\": [averageMathScore],\n",
    "    \"Average Reading Score\": [averageReadingScore],\n",
    "    \"% Passing Math\": [percentagePassingMath],\n",
    "    \"% Passing Reading\": [percentagePassingReading],\n",
    "    \"% Overall Passing Rate\": [percentageOverallPassingRate]\n",
    "})\n",
    "\n",
    "# Optional: give the displayed data cleaner formatting\n",
    "district_summary_df[\"Total Budget\"] = district_summary_df[\"Total Budget\"].map(\"${:,.2f}\".format)\n",
    "district_summary_df[\"Average Math Score\"] = district_summary_df[\"Average Math Score\"].map(\"{:,.2f}\".format)\n",
    "district_summary_df[\"Average Reading Score\"] = district_summary_df[\"Average Reading Score\"].map(\"{:,.2f}\".format)\n",
    "district_summary_df[\"% Passing Math\"] = (district_summary_df[\"% Passing Math\"]).map(\"{:.3f}%\".format)\n",
    "district_summary_df[\"% Passing Reading\"] = (district_summary_df[\"% Passing Reading\"]).map(\"{:.3f}%\".format)\n",
    "district_summary_df[\"% Overall Passing Rate\"] = (district_summary_df[\"% Overall Passing Rate\"]).map(\"{:.3f}%\".format)\n",
    "\n",
    "district_summary_df[[\"Total Schools\",\n",
    "      \"Total Students\",\n",
    "      \"Total Budget\",\n",
    "      \"Average Math Score\",\n",
    "      \"Average Reading Score\",\n",
    "      \"% Passing Math\",\n",
    "      \"% Passing Reading\",\n",
    "      \"% Overall Passing Rate\"]]\n"
   ]
  },
  {
   "cell_type": "markdown",
   "metadata": {},
   "source": [
    "## School Summary"
   ]
  },
  {
   "cell_type": "markdown",
   "metadata": {},
   "source": [
    "* Create an overview table that summarizes key metrics about each school, including:\n",
    "  * School Name\n",
    "  * School Type\n",
    "  * Total Students\n",
    "  * Total School Budget\n",
    "  * Per Student Budget\n",
    "  * Average Math Score\n",
    "  * Average Reading Score\n",
    "  * % Passing Math\n",
    "  * % Passing Reading\n",
    "  * % Overall Passing (The percentage of students that passed math **and** reading.)\n",
    "  \n",
    "* Create a dataframe to hold the above results"
   ]
  },
  {
   "cell_type": "code",
   "execution_count": null,
   "metadata": {},
   "outputs": [],
   "source": [
    "# Create an overview table that summarizes key metrics about each school\n",
    "# School Name\n",
    "grouped_school_df = school_data_complete.groupby([\"school_name\"])\n",
    "# School Type\n",
    "schoolType = grouped_school_df[\"type\"].first()\n",
    "# Total Students\n",
    "totalStudents = grouped_school_df[\"Student ID\"].count()\n",
    "# Total School Budget\n",
    "totalSchoolBudget = grouped_school_df[\"budget\"].first()\n",
    "# Per Student Budget\n",
    "perStudentBudget = totalSchoolBudget / totalStudents\n",
    "# Average Math Score\n",
    "averageMathScore = grouped_school_df[\"math_score\"].mean()\n",
    "# Average Reading Score\n",
    "averageReadingScore = grouped_school_df[\"reading_score\"].mean()\n",
    "# % Passing Math\n",
    "passingMath = school_data_complete[school_data_complete[\"math_score\"] >= 70].groupby([\"school_name\"])[\"math_score\"].count()\n",
    "percentagePassingMath = passingMath / totalStudents * 100\n",
    "# % Passing Reading\n",
    "passingRead = school_data_complete[school_data_complete[\"reading_score\"] >= 70].groupby([\"school_name\"])[\"reading_score\"].count()\n",
    "percentagePassingReading = passingRead / totalStudents * 100\n",
    "# Overall Passing Rate (Average of the above two)\n",
    "percentageOverallPassingRate = (percentagePassingMath + percentagePassingReading) / 2\n",
    "\n",
    "# Create a dataframe to hold the above results\n",
    "school_summary_df = pd.DataFrame({\"School Type\": schoolType,\n",
    "      \"Total Students\": totalStudents,\n",
    "      \"Total School Budget\": totalSchoolBudget,\n",
    "      \"Per Student Budget\": perStudentBudget,\n",
    "      \"Average Math Score\": averageMathScore,\n",
    "      \"Average Reading Score\": averageReadingScore,\n",
    "      \"% Passing Math\": percentagePassingMath,\n",
    "      \"% Passing Reading\": percentagePassingReading,\n",
    "      \"% Overall Passing Rate\": percentageOverallPassingRate})\n",
    "\n",
    "# Sort and display the top five schools in overall passing rate\n",
    "school_summary_df = school_summary_df.sort_values([\"% Overall Passing Rate\"], ascending=False)\n",
    "\n",
    "#displayed data cleaner formatting\n",
    "school_summary_df[\"Total School Budget\"] = school_summary_df[\"Total School Budget\"].map(\"${:,.2f}\".format)\n",
    "school_summary_df[\"Per Student Budget\"] = school_summary_df[\"Per Student Budget\"].map(\"${:,.2f}\".format)\n",
    "school_summary_df[\"Average Math Score\"] = school_summary_df[\"Average Math Score\"].map(\"{:,.2f}\".format)\n",
    "school_summary_df[\"Average Reading Score\"] = school_summary_df[\"Average Reading Score\"].map(\"{:,.2f}\".format)\n",
    "school_summary_df[\"% Passing Math\"] = school_summary_df[\"% Passing Math\"].map(\"{:.3f}%\".format)\n",
    "school_summary_df[\"% Passing Reading\"] = school_summary_df[\"% Passing Reading\"].map(\"{:.3f}%\".format)\n",
    "school_summary_df[\"% Overall Passing Rate\"] = school_summary_df[\"% Overall Passing Rate\"].map(\"{:.3f}%\".format)\n",
    "\n",
    "\n",
    "school_summary_df[[\"School Type\",\n",
    "      \"Total Students\",\n",
    "      \"Total School Budget\",\n",
    "      \"Per Student Budget\",\n",
    "      \"Average Math Score\",\n",
    "      \"Average Reading Score\",\n",
    "      \"% Passing Math\",\n",
    "      \"% Passing Reading\",\n",
    "      \"% Overall Passing Rate\"]].head()"
   ]
  },
  {
   "cell_type": "markdown",
   "metadata": {},
   "source": [
    "## Top Performing Schools (By % Overall Passing)"
   ]
  },
  {
   "cell_type": "markdown",
   "metadata": {},
   "source": [
    "* Sort and display the top five performing schools by % overall passing."
   ]
  },
  {
   "cell_type": "code",
   "execution_count": null,
   "metadata": {
    "scrolled": true
   },
   "outputs": [],
   "source": [
    "# Sort and display the top five performing schools by % overall passing.\n",
    "school_summary_df = school_summary_df.sort_values([\"% Overall Passing Rate\"], ascending=False)\n",
    "\n",
    "school_summary_df[[\"School Type\",\n",
    "      \"Total Students\",\n",
    "      \"Total School Budget\",\n",
    "      \"Per Student Budget\",\n",
    "      \"Average Math Score\",\n",
    "      \"Average Reading Score\",\n",
    "      \"% Passing Math\",\n",
    "      \"% Passing Reading\",\n",
    "      \"% Overall Passing Rate\"]].head()"
   ]
  },
  {
   "cell_type": "markdown",
   "metadata": {},
   "source": [
    "## Bottom Performing Schools (By % Overall Passing)"
   ]
  },
  {
   "cell_type": "markdown",
   "metadata": {},
   "source": [
    "* Sort and display the five worst-performing schools by % overall passing."
   ]
  },
  {
   "cell_type": "code",
   "execution_count": null,
   "metadata": {},
   "outputs": [],
   "source": [
    "# Sort and display the five worst-performing schools by % overall passing.\n",
    "school_summary_df = school_summary_df.sort_values([\"% Overall Passing Rate\"], ascending=True)\n",
    "\n",
    "school_summary_df[[\"School Type\",\n",
    "      \"Total Students\",\n",
    "      \"Total School Budget\",\n",
    "      \"Per Student Budget\",\n",
    "      \"Average Math Score\",\n",
    "      \"Average Reading Score\",\n",
    "      \"% Passing Math\",\n",
    "      \"% Passing Reading\",\n",
    "      \"% Overall Passing Rate\"]].head()"
   ]
  },
  {
   "cell_type": "markdown",
   "metadata": {
    "collapsed": true
   },
   "source": [
    "## Math Scores by Grade"
   ]
  },
  {
   "cell_type": "markdown",
   "metadata": {},
   "source": [
    "* Create a table that lists the average Reading Score for students of each grade level (9th, 10th, 11th, 12th) at each school.\n",
    "\n",
    "  * Create a pandas series for each grade. Hint: use a conditional statement.\n",
    "  \n",
    "  * Group each series by school\n",
    "  \n",
    "  * Combine the series into a dataframe\n",
    "  \n",
    "  * Optional: give the displayed data cleaner formatting"
   ]
  },
  {
   "cell_type": "code",
   "execution_count": null,
   "metadata": {},
   "outputs": [],
   "source": [
    "# Group each series by school\n",
    "grade9th_ds = school_data_complete.loc[school_data_complete[\"grade\"] == \"9th\"].groupby([\"school_name\"])[\"math_score\"].mean()\n",
    "grade10th_ds = school_data_complete.loc[school_data_complete[\"grade\"] == \"10th\"].groupby([\"school_name\"])[\"math_score\"].mean()\n",
    "grade11th_ds = school_data_complete.loc[school_data_complete[\"grade\"] == \"11th\"].groupby([\"school_name\"])[\"math_score\"].mean()\n",
    "grade12th_ds = school_data_complete.loc[school_data_complete[\"grade\"] == \"12th\"].groupby([\"school_name\"])[\"math_score\"].mean()\n",
    "\n",
    "# Combine the series into a dataframe\n",
    "grade_summary_df = pd.DataFrame({\"9th\": grade9th_ds,\n",
    "      \"10th\": grade10th_ds,\n",
    "      \"11th\": grade11th_ds,\n",
    "      \"12th\": grade12th_ds})\n",
    "\n",
    "#displayed data cleaner formatting\n",
    "grade_summary_df[\"9th\"] = grade_summary_df[\"9th\"].map(\"{:,.2f}\".format)\n",
    "grade_summary_df[\"10th\"] = grade_summary_df[\"10th\"].map(\"{:,.2f}\".format)\n",
    "grade_summary_df[\"11th\"] = grade_summary_df[\"11th\"].map(\"{:,.2f}\".format)\n",
    "grade_summary_df[\"12th\"] = grade_summary_df[\"12th\"].map(\"{:,.2f}\".format)\n",
    "\n",
    "grade_summary_df[[\"9th\", \"10th\", \"11th\", \"12th\"]]"
   ]
  },
  {
   "cell_type": "markdown",
   "metadata": {},
   "source": [
    "## Reading Score by Grade "
   ]
  },
  {
   "cell_type": "markdown",
   "metadata": {},
   "source": [
    "* Perform the same operations as above for reading scores"
   ]
  },
  {
   "cell_type": "code",
   "execution_count": null,
   "metadata": {},
   "outputs": [],
   "source": [
    "# Group each series by school\n",
    "grade9th_ds2 = school_data_complete.loc[school_data_complete[\"grade\"] == \"9th\"].groupby([\"school_name\"])[\"reading_score\"].mean()\n",
    "grade10th_ds2 = school_data_complete.loc[school_data_complete[\"grade\"] == \"10th\"].groupby([\"school_name\"])[\"reading_score\"].mean()\n",
    "grade11th_ds2 = school_data_complete.loc[school_data_complete[\"grade\"] == \"11th\"].groupby([\"school_name\"])[\"reading_score\"].mean()\n",
    "grade12th_ds2 = school_data_complete.loc[school_data_complete[\"grade\"] == \"12th\"].groupby([\"school_name\"])[\"reading_score\"].mean()\n",
    "\n",
    "# Combine the series into a dataframe\n",
    "grade_summary_df2 = pd.DataFrame({\"9th\": grade9th_ds2,\n",
    "      \"10th\": grade10th_ds2,\n",
    "      \"11th\": grade11th_ds2,\n",
    "      \"12th\": grade12th_ds2})\n",
    "\n",
    "#displayed data cleaner formatting\n",
    "grade_summary_df2[\"9th\"] = grade_summary_df2[\"9th\"].map(\"{:,.2f}\".format)\n",
    "grade_summary_df2[\"10th\"] = grade_summary_df2[\"10th\"].map(\"{:,.2f}\".format)\n",
    "grade_summary_df2[\"11th\"] = grade_summary_df2[\"11th\"].map(\"{:,.2f}\".format)\n",
    "grade_summary_df2[\"12th\"] = grade_summary_df2[\"12th\"].map(\"{:,.2f}\".format)\n",
    "\n",
    "grade_summary_df2[[\"9th\", \"10th\", \"11th\", \"12th\"]]"
   ]
  },
  {
   "cell_type": "markdown",
   "metadata": {},
   "source": [
    "## Scores by School Spending"
   ]
  },
  {
   "cell_type": "markdown",
   "metadata": {},
   "source": [
    "* Create a table that breaks down school performances based on average Spending Ranges (Per Student). Use 4 reasonable bins to group school spending. Include in the table each of the following:\n",
    "  * Average Math Score\n",
    "  * Average Reading Score\n",
    "  * % Passing Math\n",
    "  * % Passing Reading\n",
    "  * Overall Passing Rate (Average of the above two)"
   ]
  },
  {
   "cell_type": "code",
   "execution_count": null,
   "metadata": {},
   "outputs": [],
   "source": [
    "# Sample bins. Feel free to create your own bins.\n",
    "spending_bins = [0, 585, 615, 645, 675]\n",
    "group_names = [\"<$585\", \"$585-615\", \"$615-645\", \"$645-675\"]"
   ]
  },
  {
   "cell_type": "code",
   "execution_count": null,
   "metadata": {},
   "outputs": [],
   "source": [
    "# Convert Per Student Budget back to float from string \n",
    "school_summary_df[\"Per Student Budget\"] = school_summary_df[\"Per Student Budget\"].apply(lambda x: x.replace('$', '').replace(',', '')).astype('float')\n",
    "# Reset Index in group by \"school name\"\n",
    "school_summary_df = school_summary_df.reset_index()\n",
    "# Add Spending Ranges by Bins\n",
    "school_summary_df[\"Spending Ranges (Per Student)\"] = pd.cut(school_summary_df[\"Per Student Budget\"], spending_bins, labels=group_names)\n",
    "# Groupby Spending ranges\n",
    "grouped_spend_df = school_summary_df.groupby([\"Spending Ranges (Per Student)\"])              \n",
    "# Calculate the values for the data table\n",
    "spending_summary_df = grouped_spend_df.mean()\n",
    "\n",
    "# Display Summary\n",
    "spending_summary_df[[\"Average Math Score\",\n",
    "                    \"Average Reading Score\",\n",
    "                    \"% Passing Math\",\n",
    "                    \"% Passing Reading\",\n",
    "                    \"% Overall Passing Rate\"]]"
   ]
  },
  {
   "cell_type": "markdown",
   "metadata": {},
   "source": [
    "## Scores by School Size"
   ]
  },
  {
   "cell_type": "markdown",
   "metadata": {},
   "source": [
    "* Perform the same operations as above, based on school size."
   ]
  },
  {
   "cell_type": "code",
   "execution_count": null,
   "metadata": {
    "scrolled": true
   },
   "outputs": [],
   "source": [
    "# Sample bins. Feel free to create your own bins.\n",
    "size_bins = [0, 1000, 2000, 5000]\n",
    "group_names = [\"Small (<1000)\", \"Medium (1000-2000)\", \"Large (2000-5000)\"]"
   ]
  },
  {
   "cell_type": "code",
   "execution_count": null,
   "metadata": {},
   "outputs": [],
   "source": [
    "# Reset Index in group by \"Spending Ranges (Per Student)\"\n",
    "school_summary_df = school_summary_df.reset_index()\n",
    "# Add Spending Ranges by Bins\n",
    "school_summary_df[\"School Size\"] = pd.cut(school_summary_df[\"Total Students\"], size_bins, labels=group_names)\n",
    "# Groupby Spending ranges\n",
    "grouped_size_df = school_summary_df.groupby([\"School Size\"])   \n",
    "# Calculate the values for the data table\n",
    "size_summary_df = grouped_size_df.mean()\n",
    "\n",
    "# Display Summary\n",
    "size_summary_df[[\"Average Math Score\",\n",
    "                \"Average Reading Score\",\n",
    "                \"% Passing Math\",\n",
    "                \"% Passing Reading\",\n",
    "                \"% Overall Passing Rate\"]]"
   ]
  },
  {
   "cell_type": "markdown",
   "metadata": {},
   "source": [
    "## Scores by School Type"
   ]
  },
  {
   "cell_type": "markdown",
   "metadata": {},
   "source": [
    "* Perform the same operations as above, based on school type"
   ]
  },
  {
   "cell_type": "code",
   "execution_count": null,
   "metadata": {},
   "outputs": [],
   "source": [
    "# Reset Index in group by \"Spending Ranges (Per Student)\"\n",
    "school_summary_df = school_summary_df.reset_index()\n",
    "# Groupby Spending ranges\n",
    "grouped_type_df = school_summary_df.groupby([\"School Type\"])              \n",
    "# Calculate the values for the data table\n",
    "type_summary_df = grouped_type_df.mean()\n",
    "\n",
    "# Display Summary\n",
    "type_summary_df[[\"Average Math Score\",\n",
    "                \"Average Reading Score\",\n",
    "                \"% Passing Math\",\n",
    "                \"% Passing Reading\",\n",
    "                \"% Overall Passing Rate\"]]"
   ]
  },
  {
   "cell_type": "code",
   "execution_count": null,
   "metadata": {},
   "outputs": [],
   "source": []
  },
  {
   "cell_type": "code",
   "execution_count": null,
   "metadata": {},
   "outputs": [],
   "source": []
  }
 ],
 "metadata": {
  "anaconda-cloud": {},
  "kernel_info": {
   "name": "python3"
  },
  "kernelspec": {
   "display_name": "Python [conda env:PythonData38] *",
   "language": "python",
   "name": "conda-env-PythonData38-py"
  },
  "language_info": {
   "codemirror_mode": {
    "name": "ipython",
    "version": 3
   },
   "file_extension": ".py",
   "mimetype": "text/x-python",
   "name": "python",
   "nbconvert_exporter": "python",
   "pygments_lexer": "ipython3",
   "version": "3.8.12"
  },
  "latex_envs": {
   "LaTeX_envs_menu_present": true,
   "autoclose": false,
   "autocomplete": true,
   "bibliofile": "biblio.bib",
   "cite_by": "apalike",
   "current_citInitial": 1,
   "eqLabelWithNumbers": true,
   "eqNumInitial": 1,
   "hotkeys": {
    "equation": "Ctrl-E",
    "itemize": "Ctrl-I"
   },
   "labels_anchors": false,
   "latex_user_defs": false,
   "report_style_numbering": false,
   "user_envs_cfg": false
  },
  "nteract": {
   "version": "0.8.4"
  }
 },
 "nbformat": 4,
 "nbformat_minor": 1
}
